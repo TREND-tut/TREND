{
  "nbformat": 4,
  "nbformat_minor": 0,
  "metadata": {
    "colab": {
      "name": "TREND_linear_regression.ipynb",
      "version": "0.3.2",
      "provenance": [],
      "include_colab_link": true
    },
    "kernelspec": {
      "name": "python3",
      "display_name": "Python 3"
    }
  },
  "cells": [
    {
      "cell_type": "markdown",
      "metadata": {
        "id": "view-in-github",
        "colab_type": "text"
      },
      "source": [
        "<a href=\"https://colab.research.google.com/github/TREND-tut/TREND/blob/master/TREND_linear_regression.ipynb\" target=\"_parent\"><img src=\"https://colab.research.google.com/assets/colab-badge.svg\" alt=\"Open In Colab\"/></a>"
      ]
    },
    {
      "cell_type": "code",
      "metadata": {
        "id": "vL3jsSOo3Dfr",
        "colab_type": "code",
        "colab": {}
      },
      "source": [
        "from sklearn import datasets ## imports datasets from scikit-learn\n",
        "data = datasets.load_boston() ## loads Boston dataset from datasets library "
      ],
      "execution_count": 0,
      "outputs": []
    },
    {
      "cell_type": "code",
      "metadata": {
        "id": "o5fFpCSiAGob",
        "colab_type": "code",
        "colab": {}
      },
      "source": [
        "import numpy as np\n",
        "import pandas as pd\n",
        "# define the data/predictors as the pre-set feature names  \n",
        "df = pd.DataFrame(data.data, columns=data.feature_names)\n",
        "\n",
        "# Put the target (housing value -- MEDV) in another DataFrame\n",
        "target = pd.DataFrame(data.target, columns=[\"MEDV\"])\n"
      ],
      "execution_count": 0,
      "outputs": []
    },
    {
      "cell_type": "code",
      "metadata": {
        "id": "6XcjslTnCLqE",
        "colab_type": "code",
        "colab": {}
      },
      "source": [
        "import matplotlib.pyplot as plt"
      ],
      "execution_count": 0,
      "outputs": []
    },
    {
      "cell_type": "code",
      "metadata": {
        "id": "Y3ipjvymCO0L",
        "colab_type": "code",
        "colab": {}
      },
      "source": [
        "X = df[\"RM\"].values.reshape(-1,1)\n",
        "y = target[\"MEDV\"].values.reshape(-1,1)"
      ],
      "execution_count": 0,
      "outputs": []
    },
    {
      "cell_type": "code",
      "metadata": {
        "id": "HH3fIsDeCqFl",
        "colab_type": "code",
        "colab": {}
      },
      "source": [
        "fig = plt.figure()\n",
        "plt.scatter(X, y)\n",
        "plt.title('House Value as a function of Number of Rooms in a part of Boston')\n",
        "plt.xlabel('Number of Rooms')\n",
        "plt.ylabel('House Price in $10000')"
      ],
      "execution_count": 0,
      "outputs": []
    },
    {
      "cell_type": "code",
      "metadata": {
        "id": "IdG-IbBTDnUY",
        "colab_type": "code",
        "colab": {}
      },
      "source": [
        "w = np.dot( np.dot(X.T,y),(np.linalg.inv(np.dot(X.T, X))))"
      ],
      "execution_count": 0,
      "outputs": []
    },
    {
      "cell_type": "code",
      "metadata": {
        "id": "rmQv13lmEESW",
        "colab_type": "code",
        "colab": {}
      },
      "source": [
        "Xlin = np.linspace(3, 9, 506).reshape(-1,1)\n",
        "y_pred = Xlin*w\n",
        "plt.plot(Xlin, y_pred, 'r--')\n",
        "plt.scatter(X, y)\n",
        "plt.title('House Value as a function of Number of Rooms in a part of Boston')\n",
        "plt.xlabel('Number of Rooms')\n",
        "plt.ylabel('House Price in $10000')"
      ],
      "execution_count": 0,
      "outputs": []
    },
    {
      "cell_type": "code",
      "metadata": {
        "id": "woBT8GsuAU6Q",
        "colab_type": "code",
        "colab": {}
      },
      "source": [
        "import statsmodels.api as sm\n",
        "\n",
        "\n",
        "# Note the difference in argument order\n",
        "model = sm.OLS(y, X).fit()\n",
        "predictions = model.predict(Xlin) # make the predictions by the model\n",
        "plt.plot(Xlin, predictions, 'b.')\n",
        "plt.plot(Xlin, np.dot(Xlin,w), 'r--')\n",
        "plt.scatter(X, y)\n",
        "\n",
        "plt.title('House Value as a function of Number of Rooms in a part of Boston')\n",
        "plt.xlabel('Number of Rooms')\n",
        "plt.ylabel('House Price in $10000')"
      ],
      "execution_count": 0,
      "outputs": []
    },
    {
      "cell_type": "code",
      "metadata": {
        "id": "QDjDjT1nFjtG",
        "colab_type": "code",
        "colab": {}
      },
      "source": [
        "!git clone https://github.com/TREND-tut/TREND.git"
      ],
      "execution_count": 0,
      "outputs": []
    },
    {
      "cell_type": "code",
      "metadata": {
        "id": "6fJvS3_UFsMP",
        "colab_type": "code",
        "colab": {}
      },
      "source": [
        "%run TREND/glasso.py"
      ],
      "execution_count": 0,
      "outputs": []
    },
    {
      "cell_type": "code",
      "metadata": {
        "id": "qVrT0kTBF3Nw",
        "colab_type": "code",
        "colab": {}
      },
      "source": [
        "[history, w_adam] = keras_regressor(X, y, num_epochs = 100, bsize = y.shape[0], learn_rate = 1e-1, N = 0, lam = 0.0)"
      ],
      "execution_count": 0,
      "outputs": []
    },
    {
      "cell_type": "code",
      "metadata": {
        "id": "wAbPK9JYGOt2",
        "colab_type": "code",
        "colab": {}
      },
      "source": [
        "print(w_adam[0])\n",
        "print(w[0])"
      ],
      "execution_count": 0,
      "outputs": []
    },
    {
      "cell_type": "code",
      "metadata": {
        "id": "35FKfJO8G-nG",
        "colab_type": "code",
        "colab": {}
      },
      "source": [
        "y_pred = Xlin*w\n",
        "y_pred_adam = Xlin*w_adam\n",
        "plt.plot(Xlin, y_pred, 'r--')\n",
        "plt.plot(Xlin, y_pred_adam, 'b--')\n",
        "plt.scatter(X, y)\n",
        "plt.title('House Value as a function of Number of Rooms in a part of Boston')\n",
        "plt.xlabel('Number of Rooms')\n",
        "plt.ylabel('House Price in $10000')"
      ],
      "execution_count": 0,
      "outputs": []
    }
  ]
}